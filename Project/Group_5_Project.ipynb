{
  "cells": [
    {
      "cell_type": "code",
      "execution_count": 1,
      "metadata": {
        "colab": {
          "base_uri": "https://localhost:8080/"
        },
        "id": "0fwKn21OTyE3",
        "outputId": "05ecfc6f-1af9-4ae4-d966-f8126b48907c"
      },
      "outputs": [
        {
          "output_type": "stream",
          "name": "stdout",
          "text": [
            "Mounted at /content/drive\n",
            "total 4\n",
            "drwx------ 2 root root 4096 Sep 14 19:33 FCSR-GAN\n",
            "total 59\n",
            "-rw------- 1 root root  1630 Sep 13 09:05 attention.py\n",
            "drwx------ 2 root root  4096 Sep 14 19:33 celeba_dataset\n",
            "drwx------ 2 root root  4096 Sep 14 19:33 checkpoints\n",
            "drwx------ 2 root root  4096 Sep 14 19:33 data\n",
            "-rw------- 1 root root  1557 Sep 14 19:10 identity_loss.py\n",
            "drwx------ 2 root root  4096 Sep 14 19:33 img\n",
            "-rw------- 1 root root 11347 Nov 14  2019 LICENSE\n",
            "-rw------- 1 root root   680 Sep 14 19:10 loss.py\n",
            "drwx------ 2 root root  4096 Sep 14 19:33 models\n",
            "drwx------ 2 root root  4096 Sep 14 19:33 options\n",
            "drwx------ 2 root root  4096 Sep 14 19:33 __pycache__\n",
            "-rw------- 1 root root  1542 Nov 14  2019 README.md\n",
            "-rw------- 1 root root  8213 Nov 14  2019 train_gan.py\n",
            "drwx------ 2 root root  4096 Sep 14 19:33 utils\n"
          ]
        }
      ],
      "source": [
        "from google.colab import drive\n",
        "drive.mount('/content/drive',force_remount=True)\n",
        "\n",
        "!ls -la /content/drive/MyDrive/Project\n",
        "!ls -la /content/drive/MyDrive/Project/FCSR-GAN"
      ]
    },
    {
      "cell_type": "code",
      "execution_count": 2,
      "metadata": {
        "colab": {
          "base_uri": "https://localhost:8080/"
        },
        "id": "WqyoXfneT_R9",
        "outputId": "9bc71887-5500-4a63-c787-75556b356d3c"
      },
      "outputs": [
        {
          "output_type": "stream",
          "name": "stdout",
          "text": [
            "/content/drive/MyDrive/Project/FCSR-GAN\n",
            "/content/drive/MyDrive/Project/FCSR-GAN\n"
          ]
        }
      ],
      "source": [
        "%cd /content/drive/MyDrive/Project/FCSR-GAN\n",
        "!pwd"
      ]
    },
    {
      "cell_type": "code",
      "execution_count": 3,
      "metadata": {
        "colab": {
          "base_uri": "https://localhost:8080/"
        },
        "id": "iBiiJhMYUBAv",
        "outputId": "da1af9ab-f181-4625-e57e-1172dbd2ce3d"
      },
      "outputs": [
        {
          "output_type": "stream",
          "name": "stdout",
          "text": [
            "total 59\n",
            "-rw------- 1 root root  1630 Sep 13 09:05 attention.py\n",
            "drwx------ 2 root root  4096 Sep 14 19:33 celeba_dataset\n",
            "drwx------ 2 root root  4096 Sep 14 19:33 checkpoints\n",
            "drwx------ 2 root root  4096 Sep 14 19:33 data\n",
            "-rw------- 1 root root  1557 Sep 14 19:10 identity_loss.py\n",
            "drwx------ 2 root root  4096 Sep 14 19:33 img\n",
            "-rw------- 1 root root 11347 Nov 14  2019 LICENSE\n",
            "-rw------- 1 root root   680 Sep 14 19:10 loss.py\n",
            "drwx------ 2 root root  4096 Sep 14 19:33 models\n",
            "drwx------ 2 root root  4096 Sep 14 19:33 options\n",
            "drwx------ 2 root root  4096 Sep 14 19:33 __pycache__\n",
            "-rw------- 1 root root  1542 Nov 14  2019 README.md\n",
            "-rw------- 1 root root  8213 Nov 14  2019 train_gan.py\n",
            "drwx------ 2 root root  4096 Sep 14 19:33 utils\n"
          ]
        }
      ],
      "source": [
        "!ls -la /content/drive/MyDrive/Project/FCSR-GAN"
      ]
    },
    {
      "cell_type": "code",
      "execution_count": 4,
      "metadata": {
        "colab": {
          "base_uri": "https://localhost:8080/"
        },
        "id": "Dvca1FzAUzPJ",
        "outputId": "5c75aad9-658f-4e5c-e238-239a27514048"
      },
      "outputs": [
        {
          "output_type": "stream",
          "name": "stdout",
          "text": [
            "Attention module loaded!\n"
          ]
        }
      ],
      "source": [
        "from attention import MultiScaleSpatialChannelAttention\n",
        "attention = MultiScaleSpatialChannelAttention(in_channels=64)\n",
        "print(\"Attention module loaded!\")"
      ]
    },
    {
      "cell_type": "code",
      "execution_count": 5,
      "metadata": {
        "colab": {
          "base_uri": "https://localhost:8080/"
        },
        "id": "vqQ-VfrtgrEt",
        "outputId": "7fb33161-c6b1-418d-f9c3-5a22c9c729af"
      },
      "outputs": [
        {
          "output_type": "stream",
          "name": "stdout",
          "text": [
            "Drive already mounted at /content/drive; to attempt to forcibly remount, call drive.mount(\"/content/drive\", force_remount=True).\n"
          ]
        }
      ],
      "source": [
        "from google.colab import drive\n",
        "import os\n",
        "drive.mount('/content/drive')\n",
        "project_dir = '/content/drive/MyDrive/Project'\n"
      ]
    },
    {
      "cell_type": "code",
      "execution_count": 6,
      "metadata": {
        "id": "OmDGyWmfg_i9"
      },
      "outputs": [],
      "source": [
        "fcsr_dir = os.path.join(project_dir, 'FCSR-GAN')\n",
        "dataset_dir = os.path.join(project_dir, 'celeba_dataset')\n",
        "img_dir = os.path.join(dataset_dir, 'img_align_celeba')"
      ]
    },
    {
      "cell_type": "code",
      "execution_count": 7,
      "metadata": {
        "id": "oxokt1L5fUTO"
      },
      "outputs": [],
      "source": [
        "processed_dir = os.path.join(dataset_dir, 'processed_occluded')\n",
        "checkpoint_dir = os.path.join(project_dir, 'checkpoints')\n",
        "os.makedirs(checkpoint_dir, exist_ok=True)\n",
        "\n"
      ]
    },
    {
      "cell_type": "code",
      "execution_count": 8,
      "metadata": {
        "colab": {
          "base_uri": "https://localhost:8080/"
        },
        "id": "MEquS83AhSGL",
        "outputId": "f056ebaf-de50-42ea-d1e1-739eed213d17"
      },
      "outputs": [
        {
          "output_type": "stream",
          "name": "stdout",
          "text": [
            "Looking in links: https://download.pytorch.org/whl/torch_stable.html\n",
            "\u001b[31mERROR: Could not find a version that satisfies the requirement torch==1.13.1+cu116 (from versions: 2.2.0, 2.2.0+cpu, 2.2.0+cpu.cxx11.abi, 2.2.0+cu118, 2.2.0+cu121, 2.2.0+rocm5.6, 2.2.0+rocm5.7, 2.2.1, 2.2.1+cpu, 2.2.1+cpu.cxx11.abi, 2.2.1+cu118, 2.2.1+cu121, 2.2.1+rocm5.6, 2.2.1+rocm5.7, 2.2.2, 2.2.2+cpu, 2.2.2+cpu.cxx11.abi, 2.2.2+cu118, 2.2.2+cu121, 2.2.2+rocm5.6, 2.2.2+rocm5.7, 2.3.0, 2.3.0+cpu, 2.3.0+cpu.cxx11.abi, 2.3.0+cu118, 2.3.0+cu121, 2.3.0+rocm5.7, 2.3.0+rocm6.0, 2.3.1, 2.3.1+cpu, 2.3.1+cpu.cxx11.abi, 2.3.1+cu118, 2.3.1+cu121, 2.3.1+rocm5.7, 2.3.1+rocm6.0, 2.4.0, 2.4.1, 2.5.0, 2.5.1, 2.6.0, 2.7.0, 2.7.1, 2.8.0)\u001b[0m\u001b[31m\n",
            "\u001b[0m\u001b[31mERROR: No matching distribution found for torch==1.13.1+cu116\u001b[0m\u001b[31m\n",
            "\u001b[0mCollecting insightface\n",
            "  Downloading insightface-0.7.3.tar.gz (439 kB)\n",
            "\u001b[2K     \u001b[90m━━━━━━━━━━━━━━━━━━━━━━━━━━━━━━━━━━━━━━\u001b[0m \u001b[32m439.5/439.5 kB\u001b[0m \u001b[31m13.9 MB/s\u001b[0m eta \u001b[36m0:00:00\u001b[0m\n",
            "\u001b[?25h  Installing build dependencies ... \u001b[?25l\u001b[?25hdone\n",
            "  Getting requirements to build wheel ... \u001b[?25l\u001b[?25hdone\n",
            "  Preparing metadata (pyproject.toml) ... \u001b[?25l\u001b[?25hdone\n",
            "Collecting onnxruntime\n",
            "  Downloading onnxruntime-1.22.1-cp312-cp312-manylinux_2_27_x86_64.manylinux_2_28_x86_64.whl.metadata (4.9 kB)\n",
            "Requirement already satisfied: opencv-python in /usr/local/lib/python3.12/dist-packages (4.12.0.88)\n",
            "Requirement already satisfied: pillow in /usr/local/lib/python3.12/dist-packages (11.3.0)\n",
            "Requirement already satisfied: numpy in /usr/local/lib/python3.12/dist-packages (2.0.2)\n",
            "Requirement already satisfied: scikit-image in /usr/local/lib/python3.12/dist-packages (0.25.2)\n",
            "Collecting onnx (from insightface)\n",
            "  Downloading onnx-1.19.0-cp312-cp312-manylinux2014_x86_64.manylinux_2_17_x86_64.whl.metadata (7.0 kB)\n",
            "Requirement already satisfied: tqdm in /usr/local/lib/python3.12/dist-packages (from insightface) (4.67.1)\n",
            "Requirement already satisfied: requests in /usr/local/lib/python3.12/dist-packages (from insightface) (2.32.4)\n",
            "Requirement already satisfied: matplotlib in /usr/local/lib/python3.12/dist-packages (from insightface) (3.10.0)\n",
            "Requirement already satisfied: scipy in /usr/local/lib/python3.12/dist-packages (from insightface) (1.16.1)\n",
            "Requirement already satisfied: scikit-learn in /usr/local/lib/python3.12/dist-packages (from insightface) (1.6.1)\n",
            "Requirement already satisfied: easydict in /usr/local/lib/python3.12/dist-packages (from insightface) (1.13)\n",
            "Requirement already satisfied: cython in /usr/local/lib/python3.12/dist-packages (from insightface) (3.0.12)\n",
            "Requirement already satisfied: albumentations in /usr/local/lib/python3.12/dist-packages (from insightface) (2.0.8)\n",
            "Requirement already satisfied: prettytable in /usr/local/lib/python3.12/dist-packages (from insightface) (3.16.0)\n",
            "Collecting coloredlogs (from onnxruntime)\n",
            "  Downloading coloredlogs-15.0.1-py2.py3-none-any.whl.metadata (12 kB)\n",
            "Requirement already satisfied: flatbuffers in /usr/local/lib/python3.12/dist-packages (from onnxruntime) (25.2.10)\n",
            "Requirement already satisfied: packaging in /usr/local/lib/python3.12/dist-packages (from onnxruntime) (25.0)\n",
            "Requirement already satisfied: protobuf in /usr/local/lib/python3.12/dist-packages (from onnxruntime) (5.29.5)\n",
            "Requirement already satisfied: sympy in /usr/local/lib/python3.12/dist-packages (from onnxruntime) (1.13.3)\n",
            "Requirement already satisfied: networkx>=3.0 in /usr/local/lib/python3.12/dist-packages (from scikit-image) (3.5)\n",
            "Requirement already satisfied: imageio!=2.35.0,>=2.33 in /usr/local/lib/python3.12/dist-packages (from scikit-image) (2.37.0)\n",
            "Requirement already satisfied: tifffile>=2022.8.12 in /usr/local/lib/python3.12/dist-packages (from scikit-image) (2025.8.28)\n",
            "Requirement already satisfied: lazy-loader>=0.4 in /usr/local/lib/python3.12/dist-packages (from scikit-image) (0.4)\n",
            "Requirement already satisfied: PyYAML in /usr/local/lib/python3.12/dist-packages (from albumentations->insightface) (6.0.2)\n",
            "Requirement already satisfied: pydantic>=2.9.2 in /usr/local/lib/python3.12/dist-packages (from albumentations->insightface) (2.11.7)\n",
            "Requirement already satisfied: albucore==0.0.24 in /usr/local/lib/python3.12/dist-packages (from albumentations->insightface) (0.0.24)\n",
            "Requirement already satisfied: opencv-python-headless>=4.9.0.80 in /usr/local/lib/python3.12/dist-packages (from albumentations->insightface) (4.12.0.88)\n",
            "Requirement already satisfied: stringzilla>=3.10.4 in /usr/local/lib/python3.12/dist-packages (from albucore==0.0.24->albumentations->insightface) (3.12.6)\n",
            "Requirement already satisfied: simsimd>=5.9.2 in /usr/local/lib/python3.12/dist-packages (from albucore==0.0.24->albumentations->insightface) (6.5.1)\n",
            "Collecting humanfriendly>=9.1 (from coloredlogs->onnxruntime)\n",
            "  Downloading humanfriendly-10.0-py2.py3-none-any.whl.metadata (9.2 kB)\n",
            "Requirement already satisfied: contourpy>=1.0.1 in /usr/local/lib/python3.12/dist-packages (from matplotlib->insightface) (1.3.3)\n",
            "Requirement already satisfied: cycler>=0.10 in /usr/local/lib/python3.12/dist-packages (from matplotlib->insightface) (0.12.1)\n",
            "Requirement already satisfied: fonttools>=4.22.0 in /usr/local/lib/python3.12/dist-packages (from matplotlib->insightface) (4.59.2)\n",
            "Requirement already satisfied: kiwisolver>=1.3.1 in /usr/local/lib/python3.12/dist-packages (from matplotlib->insightface) (1.4.9)\n",
            "Requirement already satisfied: pyparsing>=2.3.1 in /usr/local/lib/python3.12/dist-packages (from matplotlib->insightface) (3.2.3)\n",
            "Requirement already satisfied: python-dateutil>=2.7 in /usr/local/lib/python3.12/dist-packages (from matplotlib->insightface) (2.9.0.post0)\n",
            "Requirement already satisfied: typing_extensions>=4.7.1 in /usr/local/lib/python3.12/dist-packages (from onnx->insightface) (4.15.0)\n",
            "Requirement already satisfied: ml_dtypes in /usr/local/lib/python3.12/dist-packages (from onnx->insightface) (0.5.3)\n",
            "Requirement already satisfied: wcwidth in /usr/local/lib/python3.12/dist-packages (from prettytable->insightface) (0.2.13)\n",
            "Requirement already satisfied: charset_normalizer<4,>=2 in /usr/local/lib/python3.12/dist-packages (from requests->insightface) (3.4.3)\n",
            "Requirement already satisfied: idna<4,>=2.5 in /usr/local/lib/python3.12/dist-packages (from requests->insightface) (3.10)\n",
            "Requirement already satisfied: urllib3<3,>=1.21.1 in /usr/local/lib/python3.12/dist-packages (from requests->insightface) (2.5.0)\n",
            "Requirement already satisfied: certifi>=2017.4.17 in /usr/local/lib/python3.12/dist-packages (from requests->insightface) (2025.8.3)\n",
            "Requirement already satisfied: joblib>=1.2.0 in /usr/local/lib/python3.12/dist-packages (from scikit-learn->insightface) (1.5.2)\n",
            "Requirement already satisfied: threadpoolctl>=3.1.0 in /usr/local/lib/python3.12/dist-packages (from scikit-learn->insightface) (3.6.0)\n",
            "Requirement already satisfied: mpmath<1.4,>=1.1.0 in /usr/local/lib/python3.12/dist-packages (from sympy->onnxruntime) (1.3.0)\n",
            "Requirement already satisfied: annotated-types>=0.6.0 in /usr/local/lib/python3.12/dist-packages (from pydantic>=2.9.2->albumentations->insightface) (0.7.0)\n",
            "Requirement already satisfied: pydantic-core==2.33.2 in /usr/local/lib/python3.12/dist-packages (from pydantic>=2.9.2->albumentations->insightface) (2.33.2)\n",
            "Requirement already satisfied: typing-inspection>=0.4.0 in /usr/local/lib/python3.12/dist-packages (from pydantic>=2.9.2->albumentations->insightface) (0.4.1)\n",
            "Requirement already satisfied: six>=1.5 in /usr/local/lib/python3.12/dist-packages (from python-dateutil>=2.7->matplotlib->insightface) (1.17.0)\n",
            "Downloading onnxruntime-1.22.1-cp312-cp312-manylinux_2_27_x86_64.manylinux_2_28_x86_64.whl (16.5 MB)\n",
            "\u001b[2K   \u001b[90m━━━━━━━━━━━━━━━━━━━━━━━━━━━━━━━━━━━━━━━━\u001b[0m \u001b[32m16.5/16.5 MB\u001b[0m \u001b[31m125.0 MB/s\u001b[0m eta \u001b[36m0:00:00\u001b[0m\n",
            "\u001b[?25hDownloading coloredlogs-15.0.1-py2.py3-none-any.whl (46 kB)\n",
            "\u001b[2K   \u001b[90m━━━━━━━━━━━━━━━━━━━━━━━━━━━━━━━━━━━━━━━━\u001b[0m \u001b[32m46.0/46.0 kB\u001b[0m \u001b[31m4.4 MB/s\u001b[0m eta \u001b[36m0:00:00\u001b[0m\n",
            "\u001b[?25hDownloading onnx-1.19.0-cp312-cp312-manylinux2014_x86_64.manylinux_2_17_x86_64.whl (18.2 MB)\n",
            "\u001b[2K   \u001b[90m━━━━━━━━━━━━━━━━━━━━━━━━━━━━━━━━━━━━━━━━\u001b[0m \u001b[32m18.2/18.2 MB\u001b[0m \u001b[31m114.1 MB/s\u001b[0m eta \u001b[36m0:00:00\u001b[0m\n",
            "\u001b[?25hDownloading humanfriendly-10.0-py2.py3-none-any.whl (86 kB)\n",
            "\u001b[2K   \u001b[90m━━━━━━━━━━━━━━━━━━━━━━━━━━━━━━━━━━━━━━━━\u001b[0m \u001b[32m86.8/86.8 kB\u001b[0m \u001b[31m8.5 MB/s\u001b[0m eta \u001b[36m0:00:00\u001b[0m\n",
            "\u001b[?25hBuilding wheels for collected packages: insightface\n",
            "  Building wheel for insightface (pyproject.toml) ... \u001b[?25l\u001b[?25hdone\n",
            "  Created wheel for insightface: filename=insightface-0.7.3-cp312-cp312-linux_x86_64.whl size=1070082 sha256=8ff545b8155e0514053ada3eeeaf05fe689f7802a6250066bfb25f37d2a1c9ad\n",
            "  Stored in directory: /root/.cache/pip/wheels/73/3c/e2/6d4815e8a8b33a2006554d65ce0d1f973e768f4c7a222fa675\n",
            "Successfully built insightface\n",
            "Installing collected packages: humanfriendly, onnx, coloredlogs, onnxruntime, insightface\n",
            "Successfully installed coloredlogs-15.0.1 humanfriendly-10.0 insightface-0.7.3 onnx-1.19.0 onnxruntime-1.22.1\n"
          ]
        }
      ],
      "source": [
        "# Install dependencies\n",
        "!pip install torch==1.13.1+cu116 torchvision==0.14.1+cu116 -f https://download.pytorch.org/whl/torch_stable.html\n",
        "!pip install insightface onnxruntime opencv-python pillow numpy scikit-image"
      ]
    },
    {
      "cell_type": "code",
      "execution_count": 9,
      "metadata": {
        "colab": {
          "base_uri": "https://localhost:8080/"
        },
        "id": "Dt0TwQUKhrLO",
        "outputId": "60a2cb16-def1-4315-db2a-ce142d17e150"
      },
      "outputs": [
        {
          "output_type": "stream",
          "name": "stdout",
          "text": [
            "/content/drive/MyDrive/Project/FCSR-GAN/celeba_dataset/img_align_celeba\n",
            "/content/drive/MyDrive/Project/FCSR-GAN/celeba_dataset/test/lena.jpg\n",
            "/content/drive/MyDrive/Project/FCSR-GAN/celeba_dataset/img_align_celeba/000002.jpg\n",
            "/content/drive/MyDrive/Project/FCSR-GAN/celeba_dataset/img_align_celeba/000003.jpg\n",
            "/content/drive/MyDrive/Project/FCSR-GAN/celeba_dataset/img_align_celeba/000001.jpg\n",
            "/content/drive/MyDrive/Project/FCSR-GAN/celeba_dataset/img_align_celeba/000023.jpg\n"
          ]
        }
      ],
      "source": [
        "\n",
        "!find /content/drive/MyDrive/Project -name \"img_align_celeba\"\n",
        "!find /content/drive/MyDrive/Project -name \"*.jpg\" | head -5"
      ]
    },
    {
      "cell_type": "code",
      "execution_count": 10,
      "metadata": {
        "colab": {
          "base_uri": "https://localhost:8080/"
        },
        "id": "fNPZg0Ych3Du",
        "outputId": "b26c359d-1ebe-4148-d50e-723b7bc662d1"
      },
      "outputs": [
        {
          "output_type": "stream",
          "name": "stdout",
          "text": [
            "total 1497\n",
            "-rw------- 1 root root 11440 Sep 28  2015 000001.jpg\n",
            "-rw------- 1 root root  7448 Sep 28  2015 000002.jpg\n",
            "-rw------- 1 root root  4253 Sep 28  2015 000003.jpg\n",
            "-rw------- 1 root root 10747 Sep 28  2015 000004.jpg\n",
            "Total images: 207\n"
          ]
        }
      ],
      "source": [
        "img_dir = '/content/drive/MyDrive/Project/FCSR-GAN/celeba_dataset/img_align_celeba'\n",
        "!ls -la {img_dir} | head -5\n",
        "print(\"Total images:\", len(os.listdir(img_dir)) if os.path.exists(img_dir) else \"Directory not found\")"
      ]
    },
    {
      "cell_type": "code",
      "execution_count": 11,
      "metadata": {
        "colab": {
          "base_uri": "https://localhost:8080/"
        },
        "id": "Sk8VW0pWhKQl",
        "outputId": "eb42c92f-81bc-4f34-9e54-53f399aa532f"
      },
      "outputs": [
        {
          "output_type": "stream",
          "name": "stdout",
          "text": [
            "Checking FCSR-GAN folder:\n",
            "total 59\n",
            "-rw------- 1 root root  1630 Sep 13 09:05 attention.py\n",
            "drwx------ 5 root root  4096 Sep 14 19:33 celeba_dataset\n",
            "drwx------ 2 root root  4096 Sep 14 19:33 checkpoints\n",
            "drwx------ 3 root root  4096 Sep 14 19:33 data\n",
            "-rw------- 1 root root  1557 Sep 14 19:10 identity_loss.py\n",
            "drwx------ 2 root root  4096 Sep 14 19:33 img\n",
            "-rw------- 1 root root 11347 Nov 14  2019 LICENSE\n",
            "-rw------- 1 root root   680 Sep 14 19:10 loss.py\n",
            "drwx------ 4 root root  4096 Sep 14 19:33 models\n",
            "drwx------ 3 root root  4096 Sep 14 19:33 options\n",
            "drwx------ 2 root root  4096 Sep 14 19:33 __pycache__\n",
            "-rw------- 1 root root  1542 Nov 14  2019 README.md\n",
            "-rw------- 1 root root  8213 Nov 14  2019 train_gan.py\n",
            "drwx------ 3 root root  4096 Sep 14 19:33 utils\n",
            "\n",
            "Checking CelebA images:\n",
            "total 1497\n",
            "-rw------- 1 root root 11440 Sep 28  2015 000001.jpg\n",
            "-rw------- 1 root root  7448 Sep 28  2015 000002.jpg\n",
            "-rw------- 1 root root  4253 Sep 28  2015 000003.jpg\n",
            "-rw------- 1 root root 10747 Sep 28  2015 000004.jpg\n",
            "\n",
            "Total images: 207\n",
            "Sample image shape: (218, 178, 3)\n"
          ]
        }
      ],
      "source": [
        "# Verify folders\n",
        "print(\"Checking FCSR-GAN folder:\")\n",
        "!ls -la {fcsr_dir}\n",
        "print(\"\\nChecking CelebA images:\")\n",
        "!ls -la {img_dir} | head -5\n",
        "print(\"\\nTotal images:\", len(os.listdir(img_dir)))\n",
        "\n",
        "# Verify one image\n",
        "import cv2\n",
        "sample_img = cv2.imread(os.path.join(img_dir, '000001.jpg'))\n",
        "print(f\"Sample image shape: {sample_img.shape if sample_img is not None else 'Not found'}\")"
      ]
    },
    {
      "cell_type": "code",
      "execution_count": 12,
      "metadata": {
        "id": "IAmE0xAWiUX6",
        "colab": {
          "base_uri": "https://localhost:8080/"
        },
        "outputId": "60e8077f-43eb-45ae-8a8e-633017372ad2"
      },
      "outputs": [
        {
          "output_type": "stream",
          "name": "stdout",
          "text": [
            "Created files:\n",
            "-rw------- 1 root root  1630 Sep 13 09:05 attention.py\n",
            "-rw------- 1 root root  1557 Sep 14 19:45 identity_loss.py\n",
            "-rw------- 1 root root   680 Sep 14 19:45 loss.py\n",
            "Attention module loaded successfully!\n"
          ]
        }
      ],
      "source": [
        "\n",
        "fcsr_dir = '/content/drive/MyDrive/Project/FCSR-GAN'\n",
        "\n",
        "\n",
        "def create_support_files(fcsr_dir):\n",
        "    if not os.path.exists(os.path.join(fcsr_dir, 'attention.py')):\n",
        "        attention_code = \"\"\"\n",
        "import torch\n",
        "import torch.nn as nn\n",
        "import torch.nn.functional as F\n",
        "\n",
        "class MultiScaleSpatialChannelAttention(nn.Module):\n",
        "    def __init__(self, in_channels, reduction=16):\n",
        "        super().__init__()\n",
        "        self.in_channels = in_channels\n",
        "        self.ca_avg = nn.AdaptiveAvgPool2d(1)\n",
        "        self.ca_max = nn.AdaptiveMaxPool2d(1)\n",
        "        self.ca_fc = nn.Sequential(\n",
        "            nn.Conv2d(in_channels, in_channels // reduction, 1, bias=False),\n",
        "            nn.ReLU(inplace=True),\n",
        "            nn.Conv2d(in_channels // reduction, in_channels, 1, bias=False)\n",
        "        )\n",
        "        self.ca_sigmoid = nn.Sigmoid()\n",
        "        self.sa_conv1 = nn.Conv2d(2, 1, kernel_size=3, padding=1)\n",
        "        self.sa_conv2 = nn.Conv2d(2, 1, kernel_size=5, padding=2)\n",
        "        self.sa_conv3 = nn.Conv2d(2, 1, kernel_size=7, padding=3)\n",
        "        self.sa_sigmoid = nn.Sigmoid()\n",
        "\n",
        "    def forward(self, x):\n",
        "        b, c, h, w = x.size()\n",
        "        avg_out = self.ca_avg(x)\n",
        "        max_out = self.ca_max(x)\n",
        "        ca_out = self.ca_fc(avg_out) + self.ca_fc(max_out)\n",
        "        ca_out = self.ca_sigmoid(ca_out)\n",
        "        x_ca = x * ca_out\n",
        "        avg_sa = torch.mean(x_ca, dim=1, keepdim=True)\n",
        "        max_sa = torch.max(x_ca, dim=1, keepdim=True)[0]\n",
        "        sa_in = torch.cat([avg_sa, max_sa], dim=1)\n",
        "        sa1 = self.sa_sigmoid(self.sa_conv1(sa_in))\n",
        "        sa2 = self.sa_sigmoid(self.sa_conv2(sa_in))\n",
        "        sa3 = self.sa_sigmoid(self.sa_conv3(sa_in))\n",
        "        sa_out = (sa1 + sa2 + sa3) / 3\n",
        "        x_out = x_ca * sa_out\n",
        "        return x_out\n",
        "\"\"\"\n",
        "        with open(os.path.join(fcsr_dir, 'attention.py'), 'w') as f:\n",
        "            f.write(attention_code)\n",
        "\n",
        "    identity_loss_code = \"\"\"\n",
        "import torch\n",
        "import torch.nn as nn\n",
        "import numpy as np\n",
        "from insightface.app import FaceAnalysis\n",
        "\n",
        "class IdentityPreservingLoss(nn.Module):\n",
        "    def __init__(self, device='cuda'):\n",
        "        super().__init__()\n",
        "        self.device = device\n",
        "        self.app = FaceAnalysis(providers=['CPUExecutionProvider'])  # use CPU if CUDA not available\n",
        "        self.app.prepare(ctx_id=0, det_size=(640, 640))\n",
        "        self.criterion = nn.CosineSimilarity(dim=1)\n",
        "\n",
        "    def forward(self, recon_img, gt_img):\n",
        "        recon_emb = []\n",
        "        gt_emb = []\n",
        "\n",
        "        for img in recon_img:\n",
        "            img_np = (img.detach().cpu().numpy().transpose(1,2,0) * 255).astype(np.uint8)\n",
        "            faces = self.app.get(img_np)\n",
        "            embedding = faces[0].embedding if len(faces) > 0 else torch.zeros(512).to(self.device)\n",
        "            if not isinstance(embedding, torch.Tensor):\n",
        "                embedding = torch.tensor(embedding, dtype=torch.float32).to(self.device)\n",
        "            recon_emb.append(embedding)\n",
        "\n",
        "        for img in gt_img:\n",
        "            img_np = (img.detach().cpu().numpy().transpose(1,2,0) * 255).astype(np.uint8)\n",
        "            faces = self.app.get(img_np)\n",
        "            embedding = faces[0].embedding if len(faces) > 0 else torch.zeros(512).to(self.device)\n",
        "            if not isinstance(embedding, torch.Tensor):\n",
        "                embedding = torch.tensor(embedding, dtype=torch.float32).to(self.device)\n",
        "            gt_emb.append(embedding)\n",
        "\n",
        "        recon_emb = torch.stack(recon_emb)\n",
        "        gt_emb = torch.stack(gt_emb)\n",
        "\n",
        "        return 1 - self.criterion(recon_emb, gt_emb).mean()\n",
        "\n",
        "\"\"\"\n",
        "    with open(os.path.join(fcsr_dir, 'identity_loss.py'), 'w') as f:\n",
        "        f.write(identity_loss_code)\n",
        "\n",
        "    loss_code = \"\"\"\n",
        "import torch\n",
        "import torch.nn as nn\n",
        "import torch.nn.functional as F\n",
        "\n",
        "def occlusion_aware_l1(fake, real, mask):\n",
        "    # Upsample fake to match real size if needed\n",
        "    if fake.shape[2:] != real.shape[2:]:\n",
        "        fake = F.interpolate(fake, size=real.shape[2:], mode='bilinear', align_corners=False)\n",
        "\n",
        "    # Resize mask to match real\n",
        "    mask_resized = F.interpolate(mask, size=real.shape[2:], mode='nearest')\n",
        "    mask_resized = mask_resized.repeat(1, real.shape[1], 1, 1)  # repeat for channels\n",
        "\n",
        "    # Compute weighted L1 loss\n",
        "    weights = torch.ones_like(real)\n",
        "    weights[mask_resized == 1] = 5.0\n",
        "    weighted_diff = torch.abs(fake - real) * weights\n",
        "    return weighted_diff.mean()\n",
        "\"\"\"\n",
        "\n",
        "    with open(os.path.join(fcsr_dir, 'loss.py'), 'w') as f:\n",
        "        f.write(loss_code)\n",
        "\n",
        "create_support_files(fcsr_dir)\n",
        "print(\"Created files:\")\n",
        "!ls -la {fcsr_dir} | grep -E 'attention.py|identity_loss.py|loss.py'\n",
        "\n",
        "# Test attention import\n",
        "from attention import MultiScaleSpatialChannelAttention\n",
        "print(\"Attention module loaded successfully!\")"
      ]
    },
    {
      "cell_type": "code",
      "execution_count": 13,
      "metadata": {
        "colab": {
          "base_uri": "https://localhost:8080/"
        },
        "id": "svpEMth4lErc",
        "outputId": "cfa4d689-cfeb-4f94-9342-324402e4630f"
      },
      "outputs": [
        {
          "output_type": "stream",
          "name": "stdout",
          "text": [
            "Preprocessed data already exists at /content/drive/MyDrive/Project/FCSR-GAN/celeba_dataset/processed_occluded\n",
            "total 2737\n",
            "-rw------- 1 root root 2824 Sep 13 10:18 input_0.png\n",
            "-rw------- 1 root root 2380 Sep 13 10:19 input_100.png\n",
            "-rw------- 1 root root 2414 Sep 13 10:19 input_101.png\n",
            "-rw------- 1 root root 2687 Sep 13 10:19 input_102.png\n",
            "total 500\n",
            "-rw------- 1 root root 122 Sep 13 10:18 mask_0.png\n",
            "-rw------- 1 root root 125 Sep 13 10:19 mask_100.png\n",
            "-rw------- 1 root root 128 Sep 13 10:19 mask_101.png\n",
            "-rw------- 1 root root 125 Sep 13 10:19 mask_102.png\n",
            "total 64874\n",
            "-rw------- 1 root root 89426 Sep 13 10:18 gt_0.png\n",
            "-rw------- 1 root root 49543 Sep 13 10:19 gt_100.png\n",
            "-rw------- 1 root root 60244 Sep 13 10:19 gt_101.png\n",
            "-rw------- 1 root root 68621 Sep 13 10:19 gt_102.png\n"
          ]
        }
      ],
      "source": [
        "import cv2\n",
        "import numpy as np\n",
        "import os\n",
        "\n",
        "# Paths\n",
        "img_dir = '/content/drive/MyDrive/Project/FCSR-GAN/celeba_dataset/img_align_celeba'\n",
        "processed_dir = '/content/drive/MyDrive/Project/FCSR-GAN/celeba_dataset/processed_occluded'\n",
        "\n",
        "# Preprocess function\n",
        "def preprocess_celeba(img_dir, processed_dir, num_samples=207):\n",
        "    os.makedirs(os.path.join(processed_dir, 'low_res_occluded'), exist_ok=True)\n",
        "    os.makedirs(os.path.join(processed_dir, 'masks'), exist_ok=True)\n",
        "    os.makedirs(os.path.join(processed_dir, 'gt_high_res'), exist_ok=True)\n",
        "\n",
        "    if not os.path.exists(img_dir):\n",
        "        raise FileNotFoundError(f\"CelebA images not found at {img_dir}. Run `!find /content/drive/MyDrive/Project -name '*.jpg'` to locate.\")\n",
        "\n",
        "    processed_count = 0\n",
        "    for i in range(1, num_samples + 1):\n",
        "        img_path = os.path.join(img_dir, f\"{str(i).zfill(6)}.jpg\")\n",
        "        if not os.path.exists(img_path):\n",
        "            continue\n",
        "\n",
        "        img = cv2.imread(img_path)\n",
        "        img = cv2.cvtColor(img, cv2.COLOR_BGR2RGB)\n",
        "        h, w = img.shape[:2]\n",
        "\n",
        "        cv2.imwrite(os.path.join(processed_dir, 'gt_high_res', f\"gt_{processed_count}.png\"),\n",
        "                    cv2.cvtColor(img, cv2.COLOR_RGB2BGR))\n",
        "\n",
        "        oh, ow = np.random.randint(20, min(h//3, w//3), 2)\n",
        "        x, y = np.random.randint(0, w - ow), np.random.randint(0, h - oh)\n",
        "        mask = np.zeros((h, w), dtype=np.uint8)\n",
        "        mask[y:y+oh, x:x+ow] = 1\n",
        "        occluded = img.copy()\n",
        "        occluded[y:y+oh, x:x+ow] = 0\n",
        "\n",
        "        low_res = cv2.resize(occluded, (32, 32))\n",
        "        low_mask = cv2.resize(mask, (32, 32), interpolation=cv2.INTER_NEAREST)\n",
        "\n",
        "        cv2.imwrite(os.path.join(processed_dir, 'low_res_occluded', f\"input_{processed_count}.png\"),\n",
        "                    cv2.cvtColor(low_res, cv2.COLOR_RGB2BGR))\n",
        "        cv2.imwrite(os.path.join(processed_dir, 'masks', f\"mask_{processed_count}.png\"), low_mask * 255)\n",
        "\n",
        "\n",
        "        processed_count += 1\n",
        "        if processed_count % 100 == 0:\n",
        "            print(f\"Preprocessed {processed_count}/{num_samples}\")\n",
        "\n",
        "    print(f\"Preprocessed {processed_count} samples at {processed_dir}\")\n",
        "    return processed_count\n",
        "\n",
        "# Run preprocessing\n",
        "if not os.path.exists(os.path.join(processed_dir, 'low_res_occluded')):\n",
        "    preprocess_celeba(img_dir, processed_dir, num_samples=1000)\n",
        "else:\n",
        "    print(f\"Preprocessed data already exists at {processed_dir}\")\n",
        "\n",
        "# Verify\n",
        "!ls -la {processed_dir}/low_res_occluded | head -5\n",
        "!ls -la {processed_dir}/masks | head -5\n",
        "!ls -la {processed_dir}/gt_high_res | head -5"
      ]
    },
    {
      "cell_type": "code",
      "execution_count": 14,
      "metadata": {
        "colab": {
          "base_uri": "https://localhost:8080/"
        },
        "id": "JulJ0rZ88Im9",
        "outputId": "7dd46de9-88d0-46d3-a7a6-d530c3f8697e"
      },
      "outputs": [
        {
          "output_type": "stream",
          "name": "stdout",
          "text": [
            "Requirement already satisfied: insightface==0.7.3 in /usr/local/lib/python3.12/dist-packages (0.7.3)\n",
            "Requirement already satisfied: onnxruntime in /usr/local/lib/python3.12/dist-packages (1.22.1)\n",
            "Requirement already satisfied: numpy in /usr/local/lib/python3.12/dist-packages (from insightface==0.7.3) (2.0.2)\n",
            "Requirement already satisfied: onnx in /usr/local/lib/python3.12/dist-packages (from insightface==0.7.3) (1.19.0)\n",
            "Requirement already satisfied: tqdm in /usr/local/lib/python3.12/dist-packages (from insightface==0.7.3) (4.67.1)\n",
            "Requirement already satisfied: requests in /usr/local/lib/python3.12/dist-packages (from insightface==0.7.3) (2.32.4)\n",
            "Requirement already satisfied: matplotlib in /usr/local/lib/python3.12/dist-packages (from insightface==0.7.3) (3.10.0)\n",
            "Requirement already satisfied: Pillow in /usr/local/lib/python3.12/dist-packages (from insightface==0.7.3) (11.3.0)\n",
            "Requirement already satisfied: scipy in /usr/local/lib/python3.12/dist-packages (from insightface==0.7.3) (1.16.1)\n",
            "Requirement already satisfied: scikit-learn in /usr/local/lib/python3.12/dist-packages (from insightface==0.7.3) (1.6.1)\n",
            "Requirement already satisfied: scikit-image in /usr/local/lib/python3.12/dist-packages (from insightface==0.7.3) (0.25.2)\n",
            "Requirement already satisfied: easydict in /usr/local/lib/python3.12/dist-packages (from insightface==0.7.3) (1.13)\n",
            "Requirement already satisfied: cython in /usr/local/lib/python3.12/dist-packages (from insightface==0.7.3) (3.0.12)\n",
            "Requirement already satisfied: albumentations in /usr/local/lib/python3.12/dist-packages (from insightface==0.7.3) (2.0.8)\n",
            "Requirement already satisfied: prettytable in /usr/local/lib/python3.12/dist-packages (from insightface==0.7.3) (3.16.0)\n",
            "Requirement already satisfied: coloredlogs in /usr/local/lib/python3.12/dist-packages (from onnxruntime) (15.0.1)\n",
            "Requirement already satisfied: flatbuffers in /usr/local/lib/python3.12/dist-packages (from onnxruntime) (25.2.10)\n",
            "Requirement already satisfied: packaging in /usr/local/lib/python3.12/dist-packages (from onnxruntime) (25.0)\n",
            "Requirement already satisfied: protobuf in /usr/local/lib/python3.12/dist-packages (from onnxruntime) (5.29.5)\n",
            "Requirement already satisfied: sympy in /usr/local/lib/python3.12/dist-packages (from onnxruntime) (1.13.3)\n",
            "Requirement already satisfied: PyYAML in /usr/local/lib/python3.12/dist-packages (from albumentations->insightface==0.7.3) (6.0.2)\n",
            "Requirement already satisfied: pydantic>=2.9.2 in /usr/local/lib/python3.12/dist-packages (from albumentations->insightface==0.7.3) (2.11.7)\n",
            "Requirement already satisfied: albucore==0.0.24 in /usr/local/lib/python3.12/dist-packages (from albumentations->insightface==0.7.3) (0.0.24)\n",
            "Requirement already satisfied: opencv-python-headless>=4.9.0.80 in /usr/local/lib/python3.12/dist-packages (from albumentations->insightface==0.7.3) (4.12.0.88)\n",
            "Requirement already satisfied: stringzilla>=3.10.4 in /usr/local/lib/python3.12/dist-packages (from albucore==0.0.24->albumentations->insightface==0.7.3) (3.12.6)\n",
            "Requirement already satisfied: simsimd>=5.9.2 in /usr/local/lib/python3.12/dist-packages (from albucore==0.0.24->albumentations->insightface==0.7.3) (6.5.1)\n",
            "Requirement already satisfied: humanfriendly>=9.1 in /usr/local/lib/python3.12/dist-packages (from coloredlogs->onnxruntime) (10.0)\n",
            "Requirement already satisfied: contourpy>=1.0.1 in /usr/local/lib/python3.12/dist-packages (from matplotlib->insightface==0.7.3) (1.3.3)\n",
            "Requirement already satisfied: cycler>=0.10 in /usr/local/lib/python3.12/dist-packages (from matplotlib->insightface==0.7.3) (0.12.1)\n",
            "Requirement already satisfied: fonttools>=4.22.0 in /usr/local/lib/python3.12/dist-packages (from matplotlib->insightface==0.7.3) (4.59.2)\n",
            "Requirement already satisfied: kiwisolver>=1.3.1 in /usr/local/lib/python3.12/dist-packages (from matplotlib->insightface==0.7.3) (1.4.9)\n",
            "Requirement already satisfied: pyparsing>=2.3.1 in /usr/local/lib/python3.12/dist-packages (from matplotlib->insightface==0.7.3) (3.2.3)\n",
            "Requirement already satisfied: python-dateutil>=2.7 in /usr/local/lib/python3.12/dist-packages (from matplotlib->insightface==0.7.3) (2.9.0.post0)\n",
            "Requirement already satisfied: typing_extensions>=4.7.1 in /usr/local/lib/python3.12/dist-packages (from onnx->insightface==0.7.3) (4.15.0)\n",
            "Requirement already satisfied: ml_dtypes in /usr/local/lib/python3.12/dist-packages (from onnx->insightface==0.7.3) (0.5.3)\n",
            "Requirement already satisfied: wcwidth in /usr/local/lib/python3.12/dist-packages (from prettytable->insightface==0.7.3) (0.2.13)\n",
            "Requirement already satisfied: charset_normalizer<4,>=2 in /usr/local/lib/python3.12/dist-packages (from requests->insightface==0.7.3) (3.4.3)\n",
            "Requirement already satisfied: idna<4,>=2.5 in /usr/local/lib/python3.12/dist-packages (from requests->insightface==0.7.3) (3.10)\n",
            "Requirement already satisfied: urllib3<3,>=1.21.1 in /usr/local/lib/python3.12/dist-packages (from requests->insightface==0.7.3) (2.5.0)\n",
            "Requirement already satisfied: certifi>=2017.4.17 in /usr/local/lib/python3.12/dist-packages (from requests->insightface==0.7.3) (2025.8.3)\n",
            "Requirement already satisfied: networkx>=3.0 in /usr/local/lib/python3.12/dist-packages (from scikit-image->insightface==0.7.3) (3.5)\n",
            "Requirement already satisfied: imageio!=2.35.0,>=2.33 in /usr/local/lib/python3.12/dist-packages (from scikit-image->insightface==0.7.3) (2.37.0)\n",
            "Requirement already satisfied: tifffile>=2022.8.12 in /usr/local/lib/python3.12/dist-packages (from scikit-image->insightface==0.7.3) (2025.8.28)\n",
            "Requirement already satisfied: lazy-loader>=0.4 in /usr/local/lib/python3.12/dist-packages (from scikit-image->insightface==0.7.3) (0.4)\n",
            "Requirement already satisfied: joblib>=1.2.0 in /usr/local/lib/python3.12/dist-packages (from scikit-learn->insightface==0.7.3) (1.5.2)\n",
            "Requirement already satisfied: threadpoolctl>=3.1.0 in /usr/local/lib/python3.12/dist-packages (from scikit-learn->insightface==0.7.3) (3.6.0)\n",
            "Requirement already satisfied: mpmath<1.4,>=1.1.0 in /usr/local/lib/python3.12/dist-packages (from sympy->onnxruntime) (1.3.0)\n",
            "Requirement already satisfied: annotated-types>=0.6.0 in /usr/local/lib/python3.12/dist-packages (from pydantic>=2.9.2->albumentations->insightface==0.7.3) (0.7.0)\n",
            "Requirement already satisfied: pydantic-core==2.33.2 in /usr/local/lib/python3.12/dist-packages (from pydantic>=2.9.2->albumentations->insightface==0.7.3) (2.33.2)\n",
            "Requirement already satisfied: typing-inspection>=0.4.0 in /usr/local/lib/python3.12/dist-packages (from pydantic>=2.9.2->albumentations->insightface==0.7.3) (0.4.1)\n",
            "Requirement already satisfied: six>=1.5 in /usr/local/lib/python3.12/dist-packages (from python-dateutil>=2.7->matplotlib->insightface==0.7.3) (1.17.0)\n"
          ]
        }
      ],
      "source": [
        "!pip install insightface==0.7.3 onnxruntime\n"
      ]
    },
    {
      "cell_type": "code",
      "execution_count": 16,
      "metadata": {
        "colab": {
          "base_uri": "https://localhost:8080/"
        },
        "id": "Mj2KuXIy5p_j",
        "outputId": "6dadcb16-8ba5-4262-daf6-3b492b62993b"
      },
      "outputs": [
        {
          "output_type": "stream",
          "name": "stdout",
          "text": [
            "Applied providers: ['CPUExecutionProvider'], with options: {'CPUExecutionProvider': {}}\n",
            "find model: /root/.insightface/models/buffalo_l/1k3d68.onnx landmark_3d_68 ['None', 3, 192, 192] 0.0 1.0\n",
            "Applied providers: ['CPUExecutionProvider'], with options: {'CPUExecutionProvider': {}}\n",
            "find model: /root/.insightface/models/buffalo_l/2d106det.onnx landmark_2d_106 ['None', 3, 192, 192] 0.0 1.0\n",
            "Applied providers: ['CPUExecutionProvider'], with options: {'CPUExecutionProvider': {}}\n",
            "find model: /root/.insightface/models/buffalo_l/det_10g.onnx detection [1, 3, '?', '?'] 127.5 128.0\n",
            "Applied providers: ['CPUExecutionProvider'], with options: {'CPUExecutionProvider': {}}\n",
            "find model: /root/.insightface/models/buffalo_l/genderage.onnx genderage ['None', 3, 96, 96] 0.0 1.0\n",
            "Applied providers: ['CPUExecutionProvider'], with options: {'CPUExecutionProvider': {}}\n",
            "find model: /root/.insightface/models/buffalo_l/w600k_r50.onnx recognition ['None', 3, 112, 112] 127.5 127.5\n",
            "set det-size: (640, 640)\n",
            "Epoch 0, Batch 0, Loss: 0.5091\n",
            "Epoch 0, Batch 20, Loss: 0.4495\n",
            "Epoch 0, Batch 40, Loss: 0.3050\n",
            "Epoch 0, Batch 60, Loss: 0.2682\n",
            "Epoch 0 finished. Avg Pixel Loss: 0.2879\n",
            "PSNR: 10.37, SSIM: 0.3719\n",
            "Saved checkpoint and outputs for epoch 0\n",
            "\n",
            "Epoch 1, Batch 0, Loss: 0.2351\n",
            "Epoch 1, Batch 20, Loss: 0.2444\n",
            "Epoch 1, Batch 40, Loss: 0.2320\n",
            "Epoch 1, Batch 60, Loss: 0.2280\n",
            "Epoch 1 finished. Avg Pixel Loss: 0.1395\n",
            "PSNR: 11.47, SSIM: 0.3452\n",
            "Saved checkpoint and outputs for epoch 1\n",
            "\n",
            "Epoch 2, Batch 0, Loss: 0.2286\n",
            "Epoch 2, Batch 20, Loss: 0.2150\n",
            "Epoch 2, Batch 40, Loss: 0.2130\n",
            "Epoch 2, Batch 60, Loss: 0.2138\n",
            "Epoch 2 finished. Avg Pixel Loss: 0.1180\n",
            "PSNR: 14.91, SSIM: 0.4618\n",
            "Saved checkpoint and outputs for epoch 2\n",
            "\n",
            "Epoch 3, Batch 0, Loss: 0.2076\n",
            "Epoch 3, Batch 20, Loss: 0.1815\n",
            "Epoch 3, Batch 40, Loss: 0.1900\n",
            "Epoch 3, Batch 60, Loss: 0.1786\n",
            "Epoch 3 finished. Avg Pixel Loss: 0.0966\n",
            "PSNR: 14.60, SSIM: 0.3770\n",
            "Saved checkpoint and outputs for epoch 3\n",
            "\n",
            "Epoch 4, Batch 0, Loss: 0.1732\n",
            "Epoch 4, Batch 20, Loss: 0.1737\n",
            "Epoch 4, Batch 40, Loss: 0.1873\n",
            "Epoch 4, Batch 60, Loss: 0.1800\n",
            "Epoch 4 finished. Avg Pixel Loss: 0.0871\n",
            "PSNR: 16.35, SSIM: 0.4516\n",
            "Saved checkpoint and outputs for epoch 4\n",
            "\n"
          ]
        }
      ],
      "source": [
        "import torch\n",
        "import torch.nn as nn\n",
        "from torch.utils.data import Dataset, DataLoader\n",
        "import os\n",
        "import cv2\n",
        "import numpy as np\n",
        "import matplotlib.pyplot as plt\n",
        "from skimage.metrics import peak_signal_noise_ratio as psnr\n",
        "from skimage.metrics import structural_similarity as ssim\n",
        "import torch.nn.functional as F\n",
        "from insightface.app import FaceAnalysis\n",
        "\n",
        "\n",
        "# Paths\n",
        "processed_dir = '/content/drive/MyDrive/Project/FCSR-GAN/celeba_dataset/processed_occluded'\n",
        "checkpoint_dir = '/content/drive/MyDrive/Project/FCSR-GAN/checkpoints'\n",
        "os.makedirs(checkpoint_dir, exist_ok=True)\n",
        "\n",
        "# Dataset class\n",
        "class OccludedDataset(Dataset):\n",
        "    def __init__(self, processed_dir):\n",
        "        self.low_res_paths = sorted(\n",
        "            [os.path.join(processed_dir, 'low_res_occluded', f)\n",
        "             for f in os.listdir(os.path.join(processed_dir, 'low_res_occluded')) if f.endswith('.png')]\n",
        "        )\n",
        "        self.mask_paths = sorted(\n",
        "            [os.path.join(processed_dir, 'masks', f)\n",
        "             for f in os.listdir(os.path.join(processed_dir, 'masks')) if f.endswith('.png')]\n",
        "        )\n",
        "        self.gt_paths = sorted(\n",
        "            [os.path.join(processed_dir, 'gt_high_res', f)\n",
        "             for f in os.listdir(os.path.join(processed_dir, 'gt_high_res')) if f.endswith('.png')]\n",
        "        )\n",
        "        assert len(self.low_res_paths) > 0, \"No low-res images found!\"\n",
        "        assert len(self.low_res_paths) == len(self.mask_paths) == len(self.gt_paths), \"Mismatch in dataset lengths\"\n",
        "\n",
        "    def __len__(self):\n",
        "        return len(self.low_res_paths)\n",
        "\n",
        "    def __getitem__(self, idx):\n",
        "        low_res = cv2.imread(self.low_res_paths[idx]) / 255.0\n",
        "        mask = cv2.imread(self.mask_paths[idx], 0) / 255.0\n",
        "        gt = cv2.imread(self.gt_paths[idx]) / 255.0\n",
        "\n",
        "        low_res = torch.from_numpy(low_res.transpose(2,0,1)).float()\n",
        "        mask = torch.from_numpy(mask).unsqueeze(0).float()\n",
        "        gt = torch.from_numpy(gt.transpose(2,0,1)).float()\n",
        "        return low_res, mask, gt\n",
        "\n",
        "# Generator\n",
        "from attention import MultiScaleSpatialChannelAttention\n",
        "\n",
        "class Generator(nn.Module):\n",
        "    def __init__(self, fc_channels=64, sr_channels=64):\n",
        "        super().__init__()\n",
        "        self.fc_module = nn.Sequential(\n",
        "            nn.Conv2d(3, fc_channels, kernel_size=3, padding=1),\n",
        "            nn.ReLU(inplace=True),\n",
        "            nn.Conv2d(fc_channels, fc_channels, kernel_size=3, padding=1),\n",
        "            nn.ReLU(inplace=True)\n",
        "        )\n",
        "        self.attention = MultiScaleSpatialChannelAttention(in_channels=fc_channels)\n",
        "        self.sr_module = nn.Sequential(\n",
        "            nn.Conv2d(fc_channels, sr_channels, kernel_size=3, padding=1),\n",
        "            nn.ReLU(inplace=True),\n",
        "            nn.Conv2d(sr_channels, 3, kernel_size=3, padding=1)\n",
        "        )\n",
        "\n",
        "    def forward(self, x, mask=None):\n",
        "        fc_out = self.fc_module(x)\n",
        "        attended = self.attention(fc_out)\n",
        "        sr_out = self.sr_module(attended)\n",
        "        return sr_out\n",
        "\n",
        "def train_fast(epochs=5, batch_size=16, id_loss_every=5):\n",
        "    from identity_loss import IdentityPreservingLoss\n",
        "    from loss import occlusion_aware_l1\n",
        "\n",
        "    device = torch.device('cuda' if torch.cuda.is_available() else 'cpu')\n",
        "    dataset = OccludedDataset(processed_dir)\n",
        "    dataloader = DataLoader(dataset, batch_size=batch_size, shuffle=True)\n",
        "\n",
        "    generator = Generator(fc_channels=64, sr_channels=64).to(device)\n",
        "    optimizer = torch.optim.Adam(generator.parameters(), lr=1e-4)\n",
        "    id_loss_fn = IdentityPreservingLoss(device=device)\n",
        "\n",
        "    for epoch in range(epochs):\n",
        "        epoch_pixel_loss = 0.0\n",
        "        for i, (low_res, mask, gt) in enumerate(dataloader):\n",
        "            low_res, mask, gt = low_res.to(device), mask.to(device), gt.to(device)\n",
        "\n",
        "            optimizer.zero_grad()\n",
        "            fake = generator(low_res, mask)\n",
        "\n",
        "            pixel_loss = occlusion_aware_l1(fake, gt, mask)\n",
        "\n",
        "            if i % id_loss_every == 0:\n",
        "                id_loss = id_loss_fn(fake, gt)\n",
        "                total_loss = pixel_loss + 0.1 * id_loss\n",
        "            else:\n",
        "                total_loss = pixel_loss\n",
        "\n",
        "            total_loss.backward()\n",
        "            optimizer.step()\n",
        "\n",
        "            epoch_pixel_loss += pixel_loss.item()\n",
        "\n",
        "            if i % 20 == 0:\n",
        "                print(f\"Epoch {epoch}, Batch {i}, Loss: {total_loss.item():.4f}\")\n",
        "\n",
        "        fake_resized = F.interpolate(fake, size=gt.shape[2:], mode='bilinear', align_corners=False)\n",
        "        fake_np = (fake_resized[0].detach().cpu().numpy().transpose(1,2,0) * 255).astype(np.uint8)\n",
        "        gt_np = (gt[0].detach().cpu().numpy().transpose(1,2,0) * 255).astype(np.uint8)\n",
        "        print(f\"Epoch {epoch} finished. Avg Pixel Loss: {epoch_pixel_loss/len(dataloader):.4f}\")\n",
        "        print(f\"PSNR: {psnr(fake_np, gt_np):.2f}, SSIM: {ssim(fake_np, gt_np, channel_axis=2):.4f}\")\n",
        "\n",
        "        # Save checkpoint once per epoch\n",
        "        torch.save(generator.state_dict(), os.path.join(checkpoint_dir, f'checkpoint_epoch_{epoch}.pt'))\n",
        "        plt.imsave(os.path.join(checkpoint_dir, f'output_epoch_{epoch}.png'), fake_np)\n",
        "        plt.imsave(os.path.join(checkpoint_dir, f'gt_epoch_{epoch}.png'), gt_np)\n",
        "        print(f\"Saved checkpoint and outputs for epoch {epoch}\\n\")\n",
        "\n",
        "\n",
        "train_fast(epochs=5, batch_size=16, id_loss_every=5)\n"
      ]
    },
    {
      "cell_type": "code",
      "execution_count": 18,
      "metadata": {
        "colab": {
          "base_uri": "https://localhost:8080/"
        },
        "id": "MC_P8MLInF1k",
        "outputId": "29070dac-e3c8-4a70-9ad6-3ad412e53dc9"
      },
      "outputs": [
        {
          "output_type": "execute_result",
          "data": {
            "text/plain": [
              "Generator(\n",
              "  (fc_module): Sequential(\n",
              "    (0): Conv2d(3, 64, kernel_size=(3, 3), stride=(1, 1), padding=(1, 1))\n",
              "    (1): ReLU(inplace=True)\n",
              "    (2): Conv2d(64, 64, kernel_size=(3, 3), stride=(1, 1), padding=(1, 1))\n",
              "    (3): ReLU(inplace=True)\n",
              "  )\n",
              "  (attention): MultiScaleSpatialChannelAttention(\n",
              "    (ca_avg): AdaptiveAvgPool2d(output_size=1)\n",
              "    (ca_max): AdaptiveMaxPool2d(output_size=1)\n",
              "    (ca_fc): Sequential(\n",
              "      (0): Conv2d(64, 4, kernel_size=(1, 1), stride=(1, 1), bias=False)\n",
              "      (1): ReLU(inplace=True)\n",
              "      (2): Conv2d(4, 64, kernel_size=(1, 1), stride=(1, 1), bias=False)\n",
              "    )\n",
              "    (ca_sigmoid): Sigmoid()\n",
              "    (sa_conv1): Conv2d(2, 1, kernel_size=(3, 3), stride=(1, 1), padding=(1, 1))\n",
              "    (sa_conv2): Conv2d(2, 1, kernel_size=(5, 5), stride=(1, 1), padding=(2, 2))\n",
              "    (sa_conv3): Conv2d(2, 1, kernel_size=(7, 7), stride=(1, 1), padding=(3, 3))\n",
              "    (sa_sigmoid): Sigmoid()\n",
              "  )\n",
              "  (sr_module): Sequential(\n",
              "    (0): Conv2d(64, 64, kernel_size=(3, 3), stride=(1, 1), padding=(1, 1))\n",
              "    (1): ReLU(inplace=True)\n",
              "    (2): Conv2d(64, 3, kernel_size=(3, 3), stride=(1, 1), padding=(1, 1))\n",
              "  )\n",
              ")"
            ]
          },
          "metadata": {},
          "execution_count": 18
        }
      ],
      "source": [
        "import torch\n",
        "from attention import MultiScaleSpatialChannelAttention\n",
        "\n",
        "device = torch.device('cuda' if torch.cuda.is_available() else 'cpu')\n",
        "\n",
        "generator = Generator(fc_channels=64, sr_channels=64).to(device)\n",
        "checkpoint_path = '/content/drive/MyDrive/Project/FCSR-GAN/checkpoints/checkpoint_epoch_4.pt'\n",
        "generator.load_state_dict(torch.load(checkpoint_path, map_location=device))\n",
        "generator.eval()\n"
      ]
    },
    {
      "cell_type": "code",
      "execution_count": 19,
      "metadata": {
        "id": "3sZg2gqcnNWA"
      },
      "outputs": [],
      "source": [
        "from torch.utils.data import DataLoader\n",
        "\n",
        "dataset = OccludedDataset(processed_dir)\n",
        "# Optional: pick a small subset to save memory\n",
        "NUM_SAMPLES = min(100, len(dataset))  # pick 100 samples or all if <100\n",
        "subset_dataset = torch.utils.data.Subset(dataset, range(NUM_SAMPLES))\n",
        "dataloader = DataLoader(subset_dataset, batch_size=4, shuffle=False)\n"
      ]
    },
    {
      "cell_type": "code",
      "source": [
        "from skimage.metrics import peak_signal_noise_ratio as psnr\n",
        "from skimage.metrics import structural_similarity as ssim\n",
        "import torch.nn.functional as F\n",
        "import numpy as np\n",
        "\n",
        "psnr_list = []\n",
        "ssim_list = []\n",
        "\n",
        "for low_res, mask, gt in dataloader:\n",
        "    low_res, mask, gt = low_res.to(device), mask.to(device), gt.to(device)\n",
        "\n",
        "    with torch.no_grad():\n",
        "        output = generator(low_res, mask)\n",
        "\n",
        "    for i in range(low_res.size(0)):\n",
        "        fake_np = (F.interpolate(output[i:i+1], size=gt.shape[2:], mode='bilinear')[0].cpu().numpy().transpose(1,2,0) * 255).astype(np.uint8)\n",
        "        gt_np = (gt[i].cpu().numpy().transpose(1,2,0) * 255).astype(np.uint8)\n",
        "\n",
        "        psnr_list.append(psnr(fake_np, gt_np))\n",
        "        ssim_list.append(ssim(fake_np, gt_np, channel_axis=2))\n",
        "\n",
        "avg_psnr = np.mean(psnr_list)\n",
        "avg_ssim = np.mean(ssim_list)\n",
        "print(f\"Average PSNR: {avg_psnr:.2f}\")\n",
        "print(f\"Average SSIM: {avg_ssim:.4f}\")\n"
      ],
      "metadata": {
        "colab": {
          "base_uri": "https://localhost:8080/"
        },
        "id": "Fycds2dT54o1",
        "outputId": "f6c85e39-53d7-4d26-ef33-61b826c281f7"
      },
      "execution_count": 20,
      "outputs": [
        {
          "output_type": "stream",
          "name": "stdout",
          "text": [
            "Average PSNR: 16.06\n",
            "Average SSIM: 0.4936\n"
          ]
        }
      ]
    },
    {
      "cell_type": "code",
      "source": [
        "import matplotlib.pyplot as plt\n",
        "\n",
        "plt.figure(figsize=(10,4))\n",
        "\n",
        "plt.subplot(1,2,1)\n",
        "plt.plot(psnr_list, marker='o')\n",
        "plt.title(\"PSNR per sample\")\n",
        "plt.xlabel(\"Sample\")\n",
        "plt.ylabel(\"PSNR\")\n",
        "plt.grid(True)\n",
        "\n",
        "plt.subplot(1,2,2)\n",
        "plt.plot(ssim_list, marker='o', color='orange')\n",
        "plt.title(\"SSIM per sample\")\n",
        "plt.xlabel(\"Sample\")\n",
        "plt.ylabel(\"SSIM\")\n",
        "plt.grid(True)\n",
        "\n",
        "plt.tight_layout()\n",
        "plt.show()\n"
      ],
      "metadata": {
        "colab": {
          "base_uri": "https://localhost:8080/",
          "height": 407
        },
        "id": "SCQ1GZkl5-qm",
        "outputId": "8eb6adaf-0698-42c3-f913-8f0c718c3e4e"
      },
      "execution_count": 21,
      "outputs": [
        {
          "output_type": "display_data",
          "data": {
            "text/plain": [
              "<Figure size 1000x400 with 2 Axes>"
            ],
            "image/png": "[encoded data removed]"
          },
          "metadata": {}
        }
      ]
    },
    {
      "cell_type": "code",
      "source": [
        "import matplotlib.pyplot as plt\n",
        "\n",
        "baseline_psnr = 28.50  # from FCSR-GAN paper\n",
        "baseline_ssim = 0.88\n",
        "\n",
        "plt.figure(figsize=(8,4))\n",
        "\n",
        "# PSNR comparison\n",
        "plt.subplot(1,2,1)\n",
        "plt.bar(['FCSR-GAN','Our Model'], [baseline_psnr, np.mean(psnr_list)], color=['blue','orange'])\n",
        "plt.title('PSNR Comparison')\n",
        "\n",
        "# SSIM comparison\n",
        "plt.subplot(1,2,2)\n",
        "plt.bar(['FCSR-GAN','Our Model'], [baseline_ssim, np.mean(ssim_list)], color=['red','green'])\n",
        "plt.title('SSIM Comparison')\n",
        "\n",
        "plt.show()\n",
        "\n"
      ],
      "metadata": {
        "colab": {
          "base_uri": "https://localhost:8080/",
          "height": 391
        },
        "id": "FtztXadz6Zzb",
        "outputId": "48af75b7-8bb1-4984-9de9-1131f30f728f"
      },
      "execution_count": 25,
      "outputs": [
        {
          "output_type": "display_data",
          "data": {
            "text/plain": [
              "<Figure size 800x400 with 2 Axes>"
            ],
            "image/png": "[encoded data removed]"
          },
          "metadata": {}
        }
      ]
    }
  ],
  "metadata": {
    "accelerator": "GPU",
    "colab": {
      "gpuType": "T4",
      "provenance": []
    },
    "kernelspec": {
      "display_name": "Python 3",
      "name": "python3"
    },
    "language_info": {
      "name": "python"
    }
  },
  "nbformat": 4,
  "nbformat_minor": 0
}